{
 "cells": [
  {
   "cell_type": "code",
   "execution_count": 217,
   "metadata": {},
   "outputs": [],
   "source": [
    "import re\n",
    "import numpy as np\n",
    "import tensorflow as tf\n",
    "from keras.preprocessing.text import Tokenizer\n",
    "from tensorflow.keras.preprocessing.sequence import pad_sequences\n",
    "from sklearn.model_selection import train_test_split\n",
    "from tensorflow.keras.regularizers import l2\n",
    "import matplotlib.pyplot as plt"
   ]
  },
  {
   "cell_type": "code",
   "execution_count": 218,
   "metadata": {},
   "outputs": [],
   "source": [
    "with open('../lecture3/sentiment.txt') as f:\n",
    "    sentiment = f.readlines()\n",
    "    \n",
    "text_processing = []\n",
    "for i in sentiment:\n",
    "    text_processing.append(i.strip().lower().split('\\t'))"
   ]
  },
  {
   "cell_type": "code",
   "execution_count": 219,
   "metadata": {},
   "outputs": [],
   "source": [
    "data = []\n",
    "label = []\n",
    "\n",
    "for i in range(len(text_processing)):\n",
    "    data.append(re.sub(r'[^\\w\\s]', '', text_processing[i][0].strip()))\n",
    "    label.append(int(text_processing[i][1]))\n",
    "    "
   ]
  },
  {
   "cell_type": "code",
   "execution_count": 220,
   "metadata": {},
   "outputs": [
    {
     "data": {
      "text/plain": [
       "57"
      ]
     },
     "execution_count": 220,
     "metadata": {},
     "output_type": "execute_result"
    }
   ],
   "source": [
    "len(max(data))"
   ]
  },
  {
   "cell_type": "code",
   "execution_count": 221,
   "metadata": {},
   "outputs": [],
   "source": [
    "# Tiền xử lý dữ liệu\n",
    "tokenizer = Tokenizer()\n",
    "tokenizer.fit_on_texts(data)\n",
    "vocab_size = len(tokenizer.word_index) + 1\n",
    "sequences = tokenizer.texts_to_sequences(data)\n",
    "X = pad_sequences(sequences, maxlen=len(max(data)))\n",
    "y = np.array(label)"
   ]
  },
  {
   "cell_type": "code",
   "execution_count": 222,
   "metadata": {},
   "outputs": [
    {
     "data": {
      "text/plain": [
       "dict_values(['the', 'and', 'i', 'was', 'a', 'to', 'is', 'this', 'it', 'of', 'food', 'not', 'for', 'in', 'place', 'good', 'service', 'we', 'very', 'my', 'with', 'great', 'had', 'that', 'be', 'so', 'were', 'are', 'but', 'have', 'back', 'you', 'they', 'here', 'on', 'at', 'like', 'go', 'all', 'time', 'our', 'will', 'as', 'really', 'just', 'there', 'an', 'their', 'if', 'best', 'would', 'ever', 'dont', 'also', 'only', 'never', 'friendly', 'one', 'up', 'no', 'your', 'restaurant', 'out', 'nice', 'again', 'from', 'been', 'what', 'amazing', 'delicious', 'did', 'by', 'vegas', 'which', 'im', 'some', 'came', 'its', 'when', 'ive', 'experience', 'pretty', 'staff', 'get', 'eat', 'us', 'minutes', 'love', 'even', 'or', 'disappointed', 'wont', 'he', 'me', 'bad', 'much', 'definitely', 'got', 'well', 'going', 'made', 'first', 'more', 'about', 'could', 'say', 'think', 'chicken', 'better', 'menu', 'too', 'salad', 'has', 'stars', 'always', 'than', 'how', 'can', 'pizza', 'fresh', 'being', 'because', 'worst', 'ordered', 'way', 'wait', 'other', 'steak', 'them', 'want', 'didnt', 'taste', 'quality', 'server', 'times', 'sushi', 'wasnt', 'flavor', 'now', 'burger', 'do', 'enough', 'any', 'after', 'went', 'fantastic', 'night', 'awesome', 'tasty', 'still', 'slow', 'feel', 'buffet', 'cant', 'bland', 'meal', 'next', 'know', 'come', 'order', 'recommend', 'loved', 'selection', 'prices', 'little', 'worth', 'sauce', 'coming', 'everything', 'another', 'atmosphere', 'excellent', 'waited', 'probably', 'terrible', 'perfect', 'fries', 'every', 'table', 'people', 'sandwich', 'down', 'over', 'before', 'give', 'lunch', 'meat', 'breakfast', 'dishes', 'many', 'clean', 'day', 'she', 'hot', 'soon', 'cold', 'then', 'off', 'getting', 'overpriced', 'sure', 'waitress', 'took', 'around', 'beer', 'overall', 'thing', 'right', 'absolutely', '5', '2', 'dish', 'quite', 'both', 'try', 'dining', 'spicy', 'bit', 'who', 'said', 'spot', 'rude', 'since', 'impressed', 'while', 'take', 'felt', 'make', 'few', 'two', 'happy', 'tasted', 'tried', 'deal', 'found', 'lot', 'waiter', 'attentive', 'cooked', 'side', 'inside', 'wonderful', 'nothing', 'eating', 'town', 'price', 'ill', 'ambiance', 'seriously', 'area', 'once', 'chips', 'far', 'friends', 'family', 'bar', 'super', 'am', 'pho', 'tell', 'hour', 'warm', 'poor', 'shrimp', 'tender', 'hard', 'left', 'his', 'horrible', 'each', 'enjoy', 'should', 'potato', 'where', 'check', 'served', 'mediocre', 'management', 'done', 'must', 'last', 'her', 'small', 'see', 'either', 'special', 'money', 'twice', 'authentic', 'dinner', 'during', 'may', 'kept', 'asked', 'tables', 'quick', 'portions', 'these', 'sick', 'dessert', 'beef', 'outside', 'talk', 'huge', 'servers', 'seafood', 'pasta', 'tasteless', '10', 'fish', '30', 'customer', 'sweet', 'old', 'disappointing', 'real', 'thai', 'eaten', 'places', 'thought', 'away', 'hit', 'waste', 'return', 'extremely', 'seated', 'id', 'avoid', 'full', 'bacon', 'zero', 'sat', 'ice', 'bread', 'home', 'things', 'waiting', 'owners', 'fast', 'wrong', 'fried', 'expect', 'reasonable', 'enjoyed', 'anytime', 'new', 'bring', 'long', 'barely', 'damn', 'highly', 'tacos', 'running', 'salmon', 'look', 'elsewhere', 'visit', 'establishment', 'rare', 'husband', 'heart', 'least', 'drinks', 'rice', 'today', 'ask', 'everyone', 'yummy', 'helpful', 'beat', 'wine', 'trip', 'kind', 'steaks', 'leave', 'pork', 'burgers', 'cream', 'fact', 'drink', 'itself', 'considering', '3', 'thumbs', 'pay', 'bay', 'piece', 'unfortunately', 'phoenix', 'sad', '20', 'something', 'incredible', 'sucked', 'wings', 'live', 'drive', 'though', 'business', 'someone', 'folks', 'fun', 'possible', 'close', 'job', 'tea', 'why', 'location', 'gave', '1', 'dirty', 'vegetables', 'large', 'soup', 'options', 'disappointment', 'needs', '40', 'manager', 'thin', 'dry', 'average', 'wow', 'texture', 'nasty', 'recommendation', 'potatoes', 'care', 'recommended', 'beautiful', 'brought', 'wall', '4', 'totally', 'sashimi', 'yourself', 'sucks', 'moist', 'sides', 'frozen', 'greek', 'dressing', 'pita', 'hummus', 'duck', 'amount', 'perfectly', 'water', 'second', 'salt', 'chewy', 'expected', 'guess', 'walked', 'rolls', 'oh', 'party', 'mouth', 'youre', 'tip', 'arrived', 'quickly', 'cafe', 'wife', 'ambience', 'music', 'honest', 'busy', 'although', 'liked', 'fine', 'wouldnt', 'strip', 'delish', 'melt', 'cheese', 'subway', 'restaurants', 'empty', 'checked', 'ate', 'watched', 'stale', 'different', 'several', 'years', 'ago', 'immediately', 'treated', 'literally', 'used', 'vegetarian', 'reviews', 'healthy', 'lacking', 'interesting', 'decor', 'butter', 'egg', 'dog', 'insulted', 'hope', 'brunch', 'white', 'soggy', 'unless', 'lobster', 'course', 'none', 'isnt', 'chef', 'couple', 'yet', 'couldnt', 'point', 'flavorful', 'received', 'generous', '8', 'patio', 'outstanding', 'pizzas', 'pulled', 'star', 'please', 'review', 'stay', '12', 'high', 'house', 'favorite', 'especially', 'pleasant', 'pleased', 'equally', 'bathroom', 'door', 'cool', 'else', 'find', 'deserves', 'stomach', 'green', 'beans', 'told', 'kids', 'total', 'regular', 'until', 'big', '35', 'rather', 'bill', 'worse', 'meals', 'homemade', 'such', 'gone', 'those', 'need', 'desserts', 'boyfriend', 'room', 'maybe', 'believe', 'setting', 'wanted', 'ok', 'half', 'list', 'vibe', 'him', 'edible', 'seating', 'style', 'salsa', 'awful', 'lacked', 'crust', 'stopped', 'late', 'under', 'touch', 'cashier', 'ended', 'human', 'hair', 'let', 'cute', 'thats', 'red', 'stuff', 'mexican', 'overwhelmed', 'decent', 'seems', 'bite', 'familiar', 'favor', 'inexpensive', 'delight', 'into', 'judge', 'grossed', 'note', 'behind', 'char', 'realized', 'attitudes', 'towards', 'customers', 'portion', 'attack', 'grill', 'downtown', 'excuse', 'scallop', 'ripped', 'refill', 'appetizers', 'glad', 'heard', 'batter', 'finish', 'above', 'beyond', 'meh', 'min', 'known', 'suck', 'use', 'value', 'seasoned', 'wasting', 'opportunity', 'company', 'underwhelming', 'person', 'break', 'grease', 'others', 'roast', 'sugary', 'six', 'year', 'die', 'bye', 'lady', 'serves', 'roasted', 'garlic', 'marrow', 'added', 'extra', 'cannot', 'bartender', 'playing', 'lovers', 'passed', 'between', 'gross', 'preparing', 'indian', 'boot', 'youd', 'word', 'belly', 'wrap', 'tuna', 'bagels', 'selections', 'bars', 'dine', 'rarely', 'curry', 'subpar', 'bathrooms', 'decorated', 'pace', 'greeted', 'joint', 'cut', 'bakery', 'reasonably', 'priced', 'looking', 'ladies', 'overcooked', 'charcoal', 'decided', 'looked', 'dirt', 'station', 'watch', 'gyros', 'feeling', 'valley', 'bowl', 'disrespected', 'gold', 'puree', 'bug', 'given', 'friend', 'shower', 'mind', 'bisque', 'filet', 'needed', 'cook', 'dealing', 'double', 'cheeseburger', 'single', 'yum', 'honestly', 'stayed', 'almost', 'building', 'dark', 'set', 'creamy', 'similar', 'complaints', 'sticks', 'tap', 'plus', 'bucks', 'par', 'coffee', 'world', 'boba', 'taco', 'bachi', 'salads', '100', 'hate', 'hours', 'later', 'neighborhood', 'convenient', 'soooo', 'third', 'stir', 'summer', 'delightful', 'toasted', 'boy', 'hand', 'basically', 'joke', 'fare', 'pricing', 'without', 'doubt', 'black', 'serve', 'seen', 'mom', 'bites', 'omg', 'feels', 'brick', 'oven', 'multiple', 'ten', 'finally', 'pancakes', 'eggs', 'treat', 'evening', 'life', 'lukewarm', 'comfortable', 'eggplant', 'fry', 'part', 'happened', 'car', 'front', 'anyone', 'stuffed', 'mall', 'lots', 'perfection', 'impeccable', 'simply', 'pop', 'assure', 'trying', 'completely', 'become', 'professional', 'end', 'weve', 'mistake', 'nicest', 'biscuits', 'cow', 'anyway', 'week', 'combination', 'driest', 'tots', 'paid', 'acknowledged', 'margaritas', 'disappoint', 'flower', 'group', 'crab', 'legs', 'sliced', 'filling', 'lovely', 'whole', 'choose', 'entrees', 'actually', 'recent', 'however', 'tapas', 'vinegrette', 'baby', 'disgusting', 'stop', 'helped', 'recently', 'fan', 'rated', 'cheap', 'presentation', 'color', 'sitting', 'fairly', 'satisfying', 'grilled', 'means', 'focused', 'guy', 'same', 'promise', 'hands', 'italian', 'legit', 'staying', 'owner', 'work', 'fail', 'plate', 'needless', 'serving', 'longer', 'orders', 'simple', 'fly', 'chinese', 'paper', 'anything', 'complain', 'crowd', 'mid', 'definately', 'bother', 'offers', 'flavorless', 'nachos', 'does', 'crazy', 'tribute', 'fell', 'flat', 'heat', 'started', 'arent', 'three', 'spend', 'lost', 'undercooked', 'seemed', 'bank', 'holiday', 'rick', 'steve', 'angry', 'honeslty', 'rubber', 'ahead', 'warmer', 'prompt', 'wayyy', 'cape', 'cod', 'ravoli', 'chickenwith', 'cranberrymmmm', 'disgusted', 'shocked', 'signs', 'indicate', 'cash', 'alone', 'burrittos', 'blah', 'less', 'interior', 'performed', 'rightthe', 'velvet', 'cakeohhh', 'hole', 'street', 'luke', 'sever', 'combos', '23', 'final', 'blow', 'accident', 'happier', 'grab', 'pub', 'redeeming', 'ample', 'stupid', 'hiro', 'drag', 'whether', 'melted', 'styrofoam', 'fear', 'positive', 'provided', 'pucks', 'disgust', 'register', 'prime', 'rib', 'section', 'generic', 'firehouse', 'refreshing', 'pink', 'sunglasses', 'chow', 'mein', 'itfriendly', 'imaginative', 'flatlined', 'strings', 'bottom', 'power', 'banana', 'petrified', 'struggle', 'wave', 'receives', 'cocktails', 'handmade', 'wed', 'military', 'discount', 'dos', 'gringos', 'updatewent', 'apparently', 'included', 'tastings', 'jeff', 'milkshake', 'chocolate', 'milk', 'excalibur', 'common', 'sense', 'appalling', 'cheated', 'experiencing', 'relationship', 'parties', 'smelled', 'trap', 'turkey', 'pan', 'cakes', 'raving', 'disaster', 'tailored', 'palate', 'spring', 'ratio', 'tenders', 'unsatisfying', 'omelets', 'summary', 'largely', 'sexy', 'outrageously', 'flirting', 'hottest', 'rock', 'casino', 'step', 'forward', 'loves', 'bone', 'bloddy', 'marys', 'mussels', 'reduction', 'buffets', 'tigerlilly', 'afternoon', 'personable', 'sooooo', 'lets', 'yama', '40min', 'ordering', 'arriving', 'mess', 'sound', 'actual', 'managed', 'blandest', 'cuisine', 'worries', 'guys', 'loving', 'son', 'hes', 'venture', 'further', 'host', 'lack', 'bitches', 'liking', 'number', 'reasons', 'reviewing', 'phenomenal', 'venturing', 'penne', 'vodka', 'including', 'massive', 'meatloaf', 'crispy', 'nyc', 'lox', 'capers', 'meet', 'expectations', 'solid', 'weekend', 'suggestions', 'bamboo', 'shoots', 'blanket', 'moz', 'top', 'cover', 'changing', 'attention', 'ignore', 'fiancé', 'middle', 'mandalay', 'forty', 'five', 'vain', 'crostini', 'highlights', 'nigiri', 's', 'flavored', 'voodoo', 'gluten', 'free', 'leftover', 'relocated', 'diverse', 'cost', 'handsdown', 'metro', 'hella', 'salty', 'spinach', 'avocado', 'ingredients', 'menus', 'handed', 'listed', 'waitresses', 'lordy', 'khao', 'soi', 'missed', 'terrific', 'thrilled', 'accommodations', 'daughter', 'perhaps', 'caught', 'judging', 'inspired', 'leaves', 'desired', 'modern', 'hip', 'maintaining', 'coziness', 'weekly', 'haunt', 'asking', 'send', 'verge', 'having', 'dressed', 'rudely', 'hits', 'quantity', 'lemon', 'raspberry', 'cocktail', 'imagined', 'crepe', 'bits', 'topvery', 'original', 'missing', 'satisfied', 'joeys', 'voted', 'readers', 'magazine', 'fridays', 'blows', 'exceeding', 'dreamed', 'serivce', 'help', 'inviting', 'lived', '1979', 'stepped', 'foot', 'mixed', 'mushrooms', 'yukon', 'corn', 'beateous', 'showed', 'climbing', 'kitchen', 'tartar', 'jamaican', 'mojitos', 'rich', 'accordingly', 'rinse', 'nude', 'bussell', 'sprouts', 'risotto', 'pepperand', 'hopefully', 'bodes', 'wrapped', 'dates', 'unbelievable', 'bargain', 'otto', 'welcome', 'mains', 'uninspired', 'muststop', 'whenever', 'worlds', 'worstannoying', 'drunk', 'patty', 'falling', 'apart', 'picture', 'uploaded', 'yeah', 'sporting', 'events', 'walls', 'covered', 'tvs', 'theyd', 'descriptions', 'eel', 'mayowell', 'sauces', 'hardest', 'decision', 'ms', 'supposed', 'rolled', 'eyes', 'providing', 'flavourful', 'freezing', 'reviewer', 'delights', 'ayce', 'lighting', 'mood', 'based', 'effort', 'show', 'gratitude', 'privileged', 'workingeating', 'parents', 'most', 'silently', 'peanut', '7', 'wouldve', 'godfathers', 'tough', 'short', 'recall', 'charged', 'exquisite', 'thus', 'visited', 'self', 'proclaimed', 'wildly', 'veggitarian', 'platter', 'madison', 'ironman', 'chefs', 'dedicated', 'spots', 'jenni', 'goat', 'skimp', 'mac', 'stinks', 'burned', 'saganaki', 'disagree', 'fellow', 'yelpers', 'incredibly', 'prepared', 'rating', 'writing', 'noodles', 'chip', 'count', 'box', 'boring', 'servicecheck', 'greedy', 'corporation', 'dime', 'atrocious', 'charming', 'outdoor', 'english', 'muffin', 'untoasted', 'bus', 'figured', 'making', 'publicly', 'loudly', 'bbq', 'lighter', 'public', 'ways', 'inhouse', 'downside', 'exceptional', 'months', 'returned', 'shawarrrrrrma', 'eyed', 'peas', 'unreal', 'vinaigrette', '400', 'honor', 'hut', 'coupons', 'truly', 'unbelievably', 'seat', 'covers', 'replenished', 'plain', 'yucky', 'standard', '17', 'delicioso', 'spaghetti', 'whatsoever', 'driving', 'tucson', 'vegasthere', 'chipotle', 'classywarm', 'succulent', 'baseball', 'app', 'shouldnt', 'genuinely', 'enthusiastic', 'sadly', 'gordon', 'ramseys', 'shall', 'sharply', 'offered', 'turn', 'buying', 'handling', 'rowdy', 'despicable', 'craving', 'ache', 'rest', 'dropped', 'ball', 'space', 'tiny', 'elegantly', 'customize', 'usual', 'bean', 'outta', 'inconsiderate', 'says', 'hi', 'dinners', 'outshining', 'halibut', 'breaks', 'starving', '90', 'disgrace', 'def', 'ethic', 'continue', 'andddd', 'date', 'past', 'located', 'crystals', 'shopping', 'aria', 'summarize', 'nay', 'transcendant', 'brings', 'joy', 'memory', 'pneumatic', 'condiment', 'dispenser', 'ians', 'kiddos', 'bouchon', 'accountant', 'screwed', 'reminds', 'shops', 'san', 'francisco', 'buldogis', 'gourmet', 'frustrated', 'petty', 'iced', 'hungry', 'teeth', 'sore', 'companions', 'meeverything', 'ground', 'smeared', 'beensteppedinandtrackedeverywhere', 'pile', 'bird', 'poop', 'furthermore', 'operation', 'website', 'expertconnisseur', 'topic', 'jerk', 'strike', 'wants', 'rushed', 'across', 'appetizer', 'absolutley', 'awkward', '15lb', '34ths', 'gristle', 'fat', 'steiners', 'dollars', 'fs', 'breakfastlunch', 'mention', 'pears', 'almonds', 'winner', 'spicier', 'prefer', 'ribeye', 'mesquite', 'gooodd', 'connoisseur', 'difference', 'certainly', 'contained', 'mouthful', 'enjoyable', 'relaxed', 'venue', 'couples', 'groups', 'etc', 'nargile', 'tater', 'southwest', 'vanilla', 'smooth', 'profiterole', 'choux', 'pastry', 'az', 'carlys', 'due', 'foodand', 'forgetting', 'ventilation', 'upgrading', 'letdown', 'camelback', 'shop', 'cartel', 'trimmed', '70', 'claimed', 'handled', 'beautifully', 'jewel', 'las', 'exactly', 'hoping', 'nearly', 'living', 'limited', 'boiled', 'toro', 'tartare', 'cavier', 'extraordinary', 'thinly', 'wagyu', 'truffle', 'attached', 'gas', 'sign', 'decide', 'humiliated', 'worker', 'mebunch', 'name', 'callings', 'conclusion', 'daily', 'specials', 'tragedy', 'struck', 'pancake', 'crawfish', 'monster', 'funny', 'moms', 'multigrain', 'pumpkin', 'pecan', 'fluffy', 'airline', 'noca', 'gyro', 'lettuce', 'thoroughly', 'pastas', 'cheesecurds', 'typical', 'glance', 'finger', 'item', 'beauty', 'havent', 'greasy', 'unhealthy', 'might', 'similarly', 'delivery', 'man', 'apology', '45', 'expensive', 'pack', 'togo', 'tiramisu', 'cannoli', 'upway', 'sun', 'bunch', 'meats', 'experienced', 'frenchman', 'martini', 'opinion', 'gc', 'sample', 'thirty', 'vacant', 'yellowtail', 'carpaccio', 'strangers', 'hello', 'strange', 'donut', 'saving', 'disgraceful', 'particular', 'suffers', 'greens', 'hearts', 'palm', 'hankering', 'forth', 'consider', 'theft', 'eew', 'complete', 'overhaul', 'witnessed', 'guests', 'regularly', 'swung', 'deeply', 'efficient', 'sucker', '15', 'olives', 'perpared', 'giant', 'slices', 'toast', 'lightly', 'dusted', 'powdered', 'sugar', 'play', 'fo', 'accomodate', 'veganveggie', 'crumby', 'pale', 'instead', 'croutons', 'itll', 'trips', 'crema', 'café', 'expanded', 'miss', 'wish', 'philadelphia', 'crisp', 'north', 'scottsdale', 'quit', 'soooooo', 'freaking', 'papers', 'reheated', 'wedges', 'sorry', 'absolute', 'tongue', 'cheek', 'bloody', 'mary', 'despite', 'rate', 'businesses', 'yellow', 'saffron', 'seasoning', 'thru', 'somehow', 'luck', 'noncustomer', 'grandmother', 'ignored', 'hostess', 'myself', 'boys', 'four', 'blue', 'shirt', 'letting', 'drastically', 'highquality', 'caesar', 'promptly', 'madhouse', 'proven', 'dead', 'greatest', 'moods', 'macarons', 'insanely', 'informative', 'werent', 'somewhat', 'fails', 'deliver', 'plater', 'relax', 'sitdown', 'together', 'poorly', 'constructed', 'screams', 'booksomethats', 'duo', 'violinists', 'songs', 'requested', 'personally', 'baklava', 'falafels', 'baba', 'ganoush', 'mgm', 'courteous', 'eclectic', 'onion', 'rings', 'pictures', 'nobu', 'google', 'imagine', 'smashburger', 'lover', 'gem', 'plantains', 'giving', 'spends', 'talking', 'themselves', 'panna', 'cotta', 'atmosphere1', 'flavors', 'slaw', 'drenched', 'mayo', 'piano', 'soundtrack', 'amazingrge', 'fillet', 'relleno', 'sergeant', 'pepper', 'auju', 'hawaiian', 'breeze', 'mango', 'magic', 'pineapple', 'smoothies', 'theyre', 'mortified', 'anyways', 'dripping', 'mostly', '2007', 'hospitality', 'industry', 'paradise', 'refrained', 'recommending', 'cibo', 'mean', 'famous', 'mouths', 'bellies', 'reading', 'reminded', 'pros', 'dough', 'tonight', 'elk', 'specialand', 'hooked', 'classics', 'sorely', 'quaint', 'deliciously', 'compliments', 'thanks', 'dylan', 't', 'tummy', 'gratuity', 'larger', '6', 'apple', 'juice', 'han', 'nan', 'ryans', 'edinburgh', 'revisiting', 'naan', 'pine', 'nut', 'touched', 'airport', 'speedy', 'calligraphy', 'stood', 'begin', 'awkwardly', 'opened', 'guest', 'extensive', 'provides', 'wide', 'array', 'inflate', 'smaller', 'grow', 'rapidly', 'lil', 'fuzzy', 'fabulous', 'wontons', 'thick', 'level', 'spice', 'overwhelm', 'main', 'older', '30s', 'arepas', 'jalapeno', 'shoe', 'leather', 'block', 'lowkey', 'nonfancy', 'affordable', 'sour', 'soups', 'sunday', 'traditional', 'hunan', 'flair', 'bartenders', 'nutshell', 'restaraunt', 'smells', 'market', 'sewer', 'girlfriends', 'veal', 'satifying', 'join', 'club', 'via', 'email', 'likes', 'case', 'colder', 'describing', 'tepid', 'chains', 'easily', 'words', 'crowds', 'juries', 'lawyers', 'court', 'arrives', 'paying', '785', 'looks', 'wienerschnitzel', 'idea', 'classic', 'maine', 'roll', 'brother', 'law', 'works', 'hereas', 'event', 'held', 'youll', 'pissd', 'surprise', 'goldencrispy', 'hopes', 'bruschetta', 'devine', 'employee', 'lastly', 'mozzarella', 'negligent', 'unwelcome', 'suggest', 'consistent', 'packed', 'seasonal', 'fruit', 'peach', 'officially', 'blown', 'put', 'plastic', 'containers', 'opposed', 'cramming', 'takeout', 'boxes', 'crêpe', 'delicate', 'fair', 'kabuki', 'overhip', 'underservices', 'maria', 'surprised', 'article', 'read', 'spices', 'fucking', 'caballeros', 'head', 'oysters', 'round', 'disbelief', 'qualified', 'version', 'foods', 'low', 'tolerance', 'polite', 'wash', 'otherwise', 'biscuit', 'hated', 'coconut', 'fella', 'huevos', 'rancheros', 'appealing', 'wines', 'pricey', 'foodservice', 'tempi', 'prepare', 'bare', 'gloveseverything', 'deep', 'oil', 'pleasure', 'plethora', 'sandwiches', 'gets', 'seal', 'approval', 'light', 'college', 'cooking', 'class', 'editing', 'besides', 'costcos', 'highlighted', 'unique', 'weird', 'hardly', 'grocery', 'store', 'ownerchef', 'japanese', 'dude', 'doughy', 'inch', 'wire', 'ourselves', 'albondigas', 'tomato', 'meatballs', 'occasions', 'medium', 'bloodiest', 'refused', 'anymore', 'killer', 'chai', 'latte', 'allergy', 'warnings', 'clue', 'contain', 'peanuts', 'mediterranean', 'rotating', 'beers', 'highlight', 'concern', 'mellow', 'mushroom', 'strawberry', 'unprofessional', 'loyal', 'patron', 'occasional', 'pats', 'mmmm', 'bellagio', 'anticipated', 'weak', 'correct', 'bought', 'sals', 'returning', 'fav', 'unexperienced', 'employees', 'chickens', 'heads', 'call', 'steakhouse', 'properly', 'understand', 'concept', 'guacamole', 'puréed', 'postinos', 'poisoning', 'batch', 'thinking', 'yay', 'hilarious', 'christmas', 'eve', 'remember', 'biggest', 'entire', 'caring', 'teamwork', 'degree', 'ri', 'calamari', 'fondue', 'forever', 'ones', 'scene', 'itdefinitely', 'dennys', 'downright', 'waaaaaayyyyyyyyyy', 'saying', 'sangria', 'glass', 'ridiculous', 'brisket', 'neat', 'trippy', 'hurry', 'reservation', 'stretch', 'imagination', 'cashew', 'chipolte', 'ranch', 'dipping', 'sause', 'watered', 'workers', 'douchey', 'indoor', 'garden', 'con', 'spotty', 'neither', 'ensued', 'apologize', 'reason', 'fill', 'binge', 'drinking', 'carbs', 'insults', 'profound', 'deuchebaggery', 'smoke', 'solidify', 'combo', 'ala', 'cart', 'blame', 'placed', 'rave', 'herewhat', 'del', 'avoided', 'hamburger', 'hell', 'gotten', 'services', 'yaall', 'doing', 'shots', 'fireball', 'disapppointment', 'correction', 'heimer', 'prettyoff', 'putting', 'cause', 'owned', 'vomited', 'circumstances', 'tops', 'brownish', 'obviously', 'below', 'movies', 'ha', 'flop', 'problem', 'charge', '1199', 'bigger', 'sub', 'unwrapped', 'mile', 'brushfire', 'impressive', 'hasnt', 'closed', 'mirage', 'refried', 'dried', 'crusty', 'caterpillar', 'appetite', 'instantly', 'ninja', 'hadnt', 'wasted', 'poured', 'wound', 'drawing'])"
      ]
     },
     "execution_count": 222,
     "metadata": {},
     "output_type": "execute_result"
    }
   ],
   "source": [
    "tokenizer.index_word.values()"
   ]
  },
  {
   "cell_type": "code",
   "execution_count": 223,
   "metadata": {},
   "outputs": [
    {
     "data": {
      "text/plain": [
       "array([[  0,   0,   0, ..., 162,   8,  15],\n",
       "       [  0,   0,   0, ...,   7,  12,  16],\n",
       "       [  0,   0,   0, ...,   4,  45, 425],\n",
       "       ...,\n",
       "       [  0,   0,   0, ...,  12,  38,  31],\n",
       "       [  0,   0,   0, ..., 136, 157,  40],\n",
       "       [  0,   0,   0, ..., 347,   1, 275]], dtype=int32)"
      ]
     },
     "execution_count": 223,
     "metadata": {},
     "output_type": "execute_result"
    }
   ],
   "source": [
    "X"
   ]
  },
  {
   "cell_type": "code",
   "execution_count": 224,
   "metadata": {},
   "outputs": [],
   "source": [
    "X_train, X_test, y_train, y_test = train_test_split(X, y, test_size=0.2, random_state=0)"
   ]
  },
  {
   "cell_type": "code",
   "execution_count": 225,
   "metadata": {},
   "outputs": [],
   "source": [
    "X_test, X_val, y_test, y_val = train_test_split(X_test, y_test, test_size=0.3, random_state=0)"
   ]
  },
  {
   "cell_type": "code",
   "execution_count": 226,
   "metadata": {},
   "outputs": [],
   "source": [
    "X_train = np.array(X_train)\n",
    "X_test = np.array(X_test)\n",
    "X_val = np.array(X_val)\n",
    "y_train = np.array(y_train).reshape(-1, 1)\n",
    "y_test = np.array(y_test).reshape(-1, 1)\n",
    "y_val = np.array(y_val).reshape(-1, 1)\n"
   ]
  },
  {
   "cell_type": "code",
   "execution_count": 227,
   "metadata": {},
   "outputs": [
    {
     "data": {
      "text/plain": [
       "((800, 57), (800, 1), (140, 57), (140, 1), (60, 57), (60, 1))"
      ]
     },
     "execution_count": 227,
     "metadata": {},
     "output_type": "execute_result"
    }
   ],
   "source": [
    "X_train.shape, y_train.shape, X_test.shape, y_test.shape, X_val.shape, y_val.shape"
   ]
  },
  {
   "cell_type": "code",
   "execution_count": 228,
   "metadata": {},
   "outputs": [],
   "source": [
    "# Xây dựng mạng neural\n",
    "model = tf.keras.Sequential()\n",
    "model.add(tf.keras.Input(shape=(X_train.shape[1],)))\n",
    "model.add(tf.keras.layers.Embedding(input_dim=vocab_size, output_dim=100, input_length=X_train.shape[1]))\n",
    "model.add(tf.keras.layers.Flatten())\n",
    "model.add(tf.keras.layers.Dense(128, activation='relu', kernel_regularizer=tf.keras.regularizers.l2(0.01)))\n",
    "# model.add(tf.keras.layers.Dropout(.3))\n",
    "# model.add(tf.keras.layers.BatchNormalization())\n",
    "# model.add(tf.keras.layers.Dense(32, activation='relu', kernel_regularizer=tf.keras.regularizers.l2(0.01)))\n",
    "# model.add(tf.keras.layers.Dropout(.3))\n",
    "model.add(tf.keras.layers.Dense(1, activation='sigmoid'))"
   ]
  },
  {
   "cell_type": "code",
   "execution_count": 229,
   "metadata": {},
   "outputs": [
    {
     "name": "stdout",
     "output_type": "stream",
     "text": [
      "Model: \"sequential_33\"\n",
      "_________________________________________________________________\n",
      " Layer (type)                Output Shape              Param #   \n",
      "=================================================================\n",
      " embedding_33 (Embedding)    (None, 57, 100)           208100    \n",
      "                                                                 \n",
      " flatten_33 (Flatten)        (None, 5700)              0         \n",
      "                                                                 \n",
      " dense_74 (Dense)            (None, 128)               729728    \n",
      "                                                                 \n",
      " dense_75 (Dense)            (None, 1)                 129       \n",
      "                                                                 \n",
      "=================================================================\n",
      "Total params: 937,957\n",
      "Trainable params: 937,957\n",
      "Non-trainable params: 0\n",
      "_________________________________________________________________\n"
     ]
    }
   ],
   "source": [
    "model.summary()"
   ]
  },
  {
   "cell_type": "code",
   "execution_count": 230,
   "metadata": {},
   "outputs": [],
   "source": [
    "model.compile(optimizer='adam', loss='binary_crossentropy', metrics=['accuracy'])"
   ]
  },
  {
   "cell_type": "code",
   "execution_count": 231,
   "metadata": {},
   "outputs": [
    {
     "name": "stdout",
     "output_type": "stream",
     "text": [
      "Epoch 1/50\n"
     ]
    },
    {
     "name": "stdout",
     "output_type": "stream",
     "text": [
      "25/25 [==============================] - 3s 87ms/step - loss: 1.6467 - accuracy: 0.5213 - val_loss: 0.8149 - val_accuracy: 0.5571\n",
      "Epoch 2/50\n",
      "25/25 [==============================] - 2s 70ms/step - loss: 0.7322 - accuracy: 0.5875 - val_loss: 0.7120 - val_accuracy: 0.5143\n",
      "Epoch 3/50\n",
      "25/25 [==============================] - 1s 36ms/step - loss: 0.6336 - accuracy: 0.8800 - val_loss: 0.6799 - val_accuracy: 0.7429\n",
      "Epoch 4/50\n",
      "25/25 [==============================] - 1s 40ms/step - loss: 0.4967 - accuracy: 0.9388 - val_loss: 0.6875 - val_accuracy: 0.7214\n",
      "Epoch 5/50\n",
      "25/25 [==============================] - 1s 28ms/step - loss: 0.3667 - accuracy: 0.9750 - val_loss: 0.6326 - val_accuracy: 0.7571\n",
      "Epoch 6/50\n",
      "25/25 [==============================] - 1s 22ms/step - loss: 0.2825 - accuracy: 0.9875 - val_loss: 0.6413 - val_accuracy: 0.7214\n",
      "Epoch 7/50\n",
      "25/25 [==============================] - 0s 18ms/step - loss: 0.2294 - accuracy: 0.9950 - val_loss: 0.6541 - val_accuracy: 0.7071\n",
      "Epoch 8/50\n",
      "25/25 [==============================] - 1s 22ms/step - loss: 0.1955 - accuracy: 0.9962 - val_loss: 0.5641 - val_accuracy: 0.7714\n",
      "Epoch 9/50\n",
      "25/25 [==============================] - 0s 14ms/step - loss: 0.1795 - accuracy: 0.9962 - val_loss: 0.6037 - val_accuracy: 0.7714\n",
      "Epoch 10/50\n",
      "25/25 [==============================] - 0s 19ms/step - loss: 0.1601 - accuracy: 0.9962 - val_loss: 0.5517 - val_accuracy: 0.7786\n",
      "Epoch 11/50\n",
      "25/25 [==============================] - 1s 23ms/step - loss: 0.1371 - accuracy: 0.9975 - val_loss: 0.5402 - val_accuracy: 0.7571\n",
      "Epoch 12/50\n",
      "25/25 [==============================] - 0s 19ms/step - loss: 0.1237 - accuracy: 0.9987 - val_loss: 0.5307 - val_accuracy: 0.7857\n",
      "Epoch 13/50\n",
      "25/25 [==============================] - 0s 9ms/step - loss: 0.1125 - accuracy: 0.9987 - val_loss: 0.5312 - val_accuracy: 0.7500\n",
      "Epoch 14/50\n",
      "25/25 [==============================] - 0s 5ms/step - loss: 0.1062 - accuracy: 0.9975 - val_loss: 0.5265 - val_accuracy: 0.7571\n",
      "Epoch 15/50\n",
      "25/25 [==============================] - 0s 5ms/step - loss: 0.0968 - accuracy: 1.0000 - val_loss: 0.5805 - val_accuracy: 0.7429\n",
      "Epoch 16/50\n",
      "25/25 [==============================] - 0s 15ms/step - loss: 0.0927 - accuracy: 0.9987 - val_loss: 0.5185 - val_accuracy: 0.7714\n",
      "Epoch 17/50\n",
      "25/25 [==============================] - 0s 5ms/step - loss: 0.0840 - accuracy: 1.0000 - val_loss: 0.5214 - val_accuracy: 0.7643\n",
      "Epoch 18/50\n",
      "25/25 [==============================] - 0s 14ms/step - loss: 0.0781 - accuracy: 1.0000 - val_loss: 0.5148 - val_accuracy: 0.7571\n",
      "Epoch 19/50\n",
      "25/25 [==============================] - 0s 14ms/step - loss: 0.0737 - accuracy: 1.0000 - val_loss: 0.5233 - val_accuracy: 0.7429\n",
      "Epoch 20/50\n",
      "25/25 [==============================] - 0s 10ms/step - loss: 0.0715 - accuracy: 1.0000 - val_loss: 0.5612 - val_accuracy: 0.7357\n",
      "Epoch 21/50\n",
      "25/25 [==============================] - 0s 5ms/step - loss: 0.0720 - accuracy: 0.9987 - val_loss: 0.5594 - val_accuracy: 0.7214\n",
      "Epoch 22/50\n",
      "25/25 [==============================] - 0s 19ms/step - loss: 0.0650 - accuracy: 1.0000 - val_loss: 0.5149 - val_accuracy: 0.7571\n",
      "Epoch 23/50\n",
      "25/25 [==============================] - 0s 6ms/step - loss: 0.0607 - accuracy: 1.0000 - val_loss: 0.5183 - val_accuracy: 0.7500\n",
      "Epoch 24/50\n",
      "25/25 [==============================] - 0s 6ms/step - loss: 0.0584 - accuracy: 1.0000 - val_loss: 0.5298 - val_accuracy: 0.7643\n",
      "Epoch 25/50\n",
      "25/25 [==============================] - 0s 6ms/step - loss: 0.0556 - accuracy: 1.0000 - val_loss: 0.5176 - val_accuracy: 0.7429\n",
      "Epoch 26/50\n",
      "25/25 [==============================] - 0s 6ms/step - loss: 0.0539 - accuracy: 1.0000 - val_loss: 0.5305 - val_accuracy: 0.7500\n",
      "Epoch 27/50\n",
      "25/25 [==============================] - 0s 12ms/step - loss: 0.0506 - accuracy: 1.0000 - val_loss: 0.5127 - val_accuracy: 0.7500\n",
      "Epoch 28/50\n",
      "25/25 [==============================] - 0s 5ms/step - loss: 0.0512 - accuracy: 1.0000 - val_loss: 0.5742 - val_accuracy: 0.7286\n",
      "Epoch 29/50\n",
      "25/25 [==============================] - 0s 5ms/step - loss: 0.0497 - accuracy: 1.0000 - val_loss: 0.5950 - val_accuracy: 0.7357\n",
      "Epoch 30/50\n",
      "25/25 [==============================] - 0s 5ms/step - loss: 0.0497 - accuracy: 1.0000 - val_loss: 0.5431 - val_accuracy: 0.7500\n",
      "Epoch 31/50\n",
      "25/25 [==============================] - 0s 5ms/step - loss: 0.0470 - accuracy: 1.0000 - val_loss: 0.5402 - val_accuracy: 0.7571\n",
      "Epoch 32/50\n",
      "25/25 [==============================] - 0s 5ms/step - loss: 0.0451 - accuracy: 1.0000 - val_loss: 0.6041 - val_accuracy: 0.7000\n",
      "Epoch 33/50\n",
      "25/25 [==============================] - 0s 5ms/step - loss: 0.0430 - accuracy: 1.0000 - val_loss: 0.5618 - val_accuracy: 0.7143\n",
      "Epoch 34/50\n",
      "25/25 [==============================] - 0s 9ms/step - loss: 0.0424 - accuracy: 1.0000 - val_loss: 0.5407 - val_accuracy: 0.7286\n",
      "Epoch 35/50\n",
      "25/25 [==============================] - 0s 4ms/step - loss: 0.0390 - accuracy: 1.0000 - val_loss: 0.5523 - val_accuracy: 0.7429\n",
      "Epoch 36/50\n",
      "25/25 [==============================] - 0s 5ms/step - loss: 0.0392 - accuracy: 1.0000 - val_loss: 0.5617 - val_accuracy: 0.7286\n",
      "Epoch 37/50\n",
      "25/25 [==============================] - 0s 5ms/step - loss: 0.0379 - accuracy: 1.0000 - val_loss: 0.5679 - val_accuracy: 0.7286\n",
      "Epoch 38/50\n",
      "25/25 [==============================] - 0s 5ms/step - loss: 0.0355 - accuracy: 1.0000 - val_loss: 0.5297 - val_accuracy: 0.7571\n",
      "Epoch 39/50\n",
      "25/25 [==============================] - 0s 5ms/step - loss: 0.0342 - accuracy: 1.0000 - val_loss: 0.5299 - val_accuracy: 0.7286\n",
      "Epoch 40/50\n",
      "25/25 [==============================] - 0s 5ms/step - loss: 0.0335 - accuracy: 1.0000 - val_loss: 0.5594 - val_accuracy: 0.7071\n",
      "Epoch 41/50\n",
      "25/25 [==============================] - 0s 5ms/step - loss: 0.0337 - accuracy: 1.0000 - val_loss: 0.5823 - val_accuracy: 0.7429\n",
      "Epoch 42/50\n",
      "25/25 [==============================] - 0s 9ms/step - loss: 0.0324 - accuracy: 1.0000 - val_loss: 0.5566 - val_accuracy: 0.7357\n",
      "Epoch 43/50\n",
      "25/25 [==============================] - 0s 5ms/step - loss: 0.0312 - accuracy: 1.0000 - val_loss: 0.5327 - val_accuracy: 0.7429\n",
      "Epoch 44/50\n",
      "25/25 [==============================] - 0s 5ms/step - loss: 0.0299 - accuracy: 1.0000 - val_loss: 0.5471 - val_accuracy: 0.7286\n",
      "Epoch 45/50\n",
      "25/25 [==============================] - 0s 5ms/step - loss: 0.0294 - accuracy: 1.0000 - val_loss: 0.5637 - val_accuracy: 0.7143\n",
      "Epoch 46/50\n",
      "25/25 [==============================] - 0s 5ms/step - loss: 0.0289 - accuracy: 1.0000 - val_loss: 0.5694 - val_accuracy: 0.7286\n",
      "Epoch 47/50\n",
      "25/25 [==============================] - 0s 5ms/step - loss: 0.0280 - accuracy: 1.0000 - val_loss: 0.5435 - val_accuracy: 0.7429\n",
      "Epoch 48/50\n",
      "25/25 [==============================] - 0s 5ms/step - loss: 0.0273 - accuracy: 1.0000 - val_loss: 0.5511 - val_accuracy: 0.7214\n",
      "Epoch 49/50\n",
      "25/25 [==============================] - 0s 10ms/step - loss: 0.0272 - accuracy: 1.0000 - val_loss: 0.5687 - val_accuracy: 0.7286\n",
      "Epoch 50/50\n",
      "25/25 [==============================] - 0s 5ms/step - loss: 0.0274 - accuracy: 1.0000 - val_loss: 0.6318 - val_accuracy: 0.7429\n"
     ]
    }
   ],
   "source": [
    "history = model.fit(X_train, y_train, epochs=50, batch_size=32, validation_data=(X_test, y_test))"
   ]
  },
  {
   "cell_type": "code",
   "execution_count": 232,
   "metadata": {},
   "outputs": [
    {
     "data": {
      "image/png": "[encoded data removed]",
      "text/plain": [
       "<Figure size 864x288 with 2 Axes>"
      ]
     },
     "metadata": {
      "needs_background": "light"
     },
     "output_type": "display_data"
    }
   ],
   "source": [
    "train_loss = history.history['loss']\n",
    "val_loss = history.history['val_loss']\n",
    "train_accuracy = history.history['accuracy']\n",
    "val_accuracy = history.history['val_accuracy']\n",
    "\n",
    "# Vẽ đồ thị loss\n",
    "plt.figure(figsize=(12, 4))\n",
    "plt.subplot(1, 2, 1)\n",
    "plt.plot(train_loss, label='Training Loss')\n",
    "plt.plot(val_loss, label='Validation Loss')\n",
    "plt.title('Loss')\n",
    "plt.xlabel('Epoch')\n",
    "plt.ylabel('Loss')\n",
    "plt.legend()\n",
    "\n",
    "# Vẽ đồ thị accuracy\n",
    "plt.subplot(1, 2, 2)\n",
    "plt.plot(train_accuracy, label='Training Accuracy')\n",
    "plt.plot(val_accuracy, label='Validation Accuracy')\n",
    "plt.title('Accuracy')\n",
    "plt.xlabel('Epoch')\n",
    "plt.ylabel('Accuracy')\n",
    "plt.legend()\n",
    "\n",
    "plt.tight_layout()\n",
    "plt.show()"
   ]
  },
  {
   "cell_type": "code",
   "execution_count": 233,
   "metadata": {},
   "outputs": [
    {
     "name": "stdout",
     "output_type": "stream",
     "text": [
      "2/2 [==============================] - 0s 6ms/step - loss: 0.4790 - accuracy: 0.8167\n",
      "Validation Loss: 0.4790\n",
      "Validation Accuracy: 81.67%\n"
     ]
    }
   ],
   "source": [
    "# Đánh giá mô hình trên tập validation\n",
    "validation_loss, validation_accuracy = model.evaluate(X_val, y_val)\n",
    "\n",
    "print(f\"Validation Loss: {validation_loss:.4f}\")\n",
    "print(f\"Validation Accuracy: {validation_accuracy * 100:.2f}%\")\n"
   ]
  },
  {
   "cell_type": "code",
   "execution_count": null,
   "metadata": {},
   "outputs": [],
   "source": []
  }
 ],
 "metadata": {
  "kernelspec": {
   "display_name": "tf-gpu",
   "language": "python",
   "name": "python3"
  },
  "language_info": {
   "codemirror_mode": {
    "name": "ipython",
    "version": 3
   },
   "file_extension": ".py",
   "mimetype": "text/x-python",
   "name": "python",
   "nbconvert_exporter": "python",
   "pygments_lexer": "ipython3",
   "version": "3.9.16"
  },
  "orig_nbformat": 4
 },
 "nbformat": 4,
 "nbformat_minor": 2
}
